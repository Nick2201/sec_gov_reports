{
 "cells": [
  {
   "cell_type": "code",
   "execution_count": 10,
   "metadata": {},
   "outputs": [],
   "source": [
    "import psycopg2\n",
    "from sqlalchemy import create_engine\n",
    "from pathlib import Path\n",
    "import json\n",
    "DB_CONFIG_PATH = Path(Path.cwd().parent.parent.parent.parent/\"settings\"/\"db_config.json\")\n",
    "with open(str(DB_CONFIG_PATH), \"r\") as read_file: DB_CONFIG = json.load(read_file)\n",
    "\n",
    "import pandas as pd\n",
    "# Replace 'username', 'password', 'host', 'port', and 'database' with your actual database credentials\n",
    "engine = create_engine('postgresql' + '://{user}:{password}@{host}:{port}/{database}'.format(**DB_CONFIG))\n"
   ]
  },
  {
   "cell_type": "code",
   "execution_count": 154,
   "metadata": {},
   "outputs": [],
   "source": [
    "df_report_links = pd.read_sql_query(\"\"\"\n",
    "SELECT *\n",
    "FROM tickers_table \n",
    "INNER JOIN \n",
    "        report_liks ON report_liks.cik = tickers_table.cik\n",
    "\n",
    "ORDER BY tickers_table.cik\"\"\"\n",
    "    ,engine) \n",
    "\n",
    "df_report_links['date_publication'] = pd.to_datetime(df_report_links['date_publication'],format='%Y-%m-%d')"
   ]
  },
  {
   "cell_type": "code",
   "execution_count": 19,
   "metadata": {},
   "outputs": [],
   "source": [
    "df_descriptive = pd.read_sql_table(\n",
    "    table_name='descriptive_info',con=engine)"
   ]
  },
  {
   "cell_type": "code",
   "execution_count": 22,
   "metadata": {},
   "outputs": [
    {
     "name": "stdout",
     "output_type": "stream",
     "text": [
      "Index(['id', 'cik', 'ticker', 'title', 'date_added', 'date_publication',\n",
      "       'quartal', 'url_report'],\n",
      "      dtype='object') Index(['id', 'symbol', 'longName', 'sector', 'industry', 'country',\n",
      "       'longBusinessSummary', 'fullTimeEmployees', 'website', 'logo_url',\n",
      "       'exchange'],\n",
      "      dtype='object')\n"
     ]
    }
   ],
   "source": [
    "print(\n",
    "    df_report_links.columns,\n",
    "    df_descriptive.columns\n",
    ")"
   ]
  },
  {
   "cell_type": "code",
   "execution_count": 31,
   "metadata": {},
   "outputs": [
    {
     "data": {
      "text/html": [
       "<div>\n",
       "<style scoped>\n",
       "    .dataframe tbody tr th:only-of-type {\n",
       "        vertical-align: middle;\n",
       "    }\n",
       "\n",
       "    .dataframe tbody tr th {\n",
       "        vertical-align: top;\n",
       "    }\n",
       "\n",
       "    .dataframe thead th {\n",
       "        text-align: right;\n",
       "    }\n",
       "</style>\n",
       "<table border=\"1\" class=\"dataframe\">\n",
       "  <thead>\n",
       "    <tr style=\"text-align: right;\">\n",
       "      <th></th>\n",
       "      <th>symbol</th>\n",
       "      <th>unique_url</th>\n",
       "    </tr>\n",
       "  </thead>\n",
       "  <tbody>\n",
       "    <tr>\n",
       "      <th>7859</th>\n",
       "      <td>VAL-WT</td>\n",
       "      <td>65</td>\n",
       "    </tr>\n",
       "    <tr>\n",
       "      <th>7858</th>\n",
       "      <td>VAL</td>\n",
       "      <td>65</td>\n",
       "    </tr>\n",
       "    <tr>\n",
       "      <th>1318</th>\n",
       "      <td>BTCS</td>\n",
       "      <td>64</td>\n",
       "    </tr>\n",
       "    <tr>\n",
       "      <th>3210</th>\n",
       "      <td>GE</td>\n",
       "      <td>62</td>\n",
       "    </tr>\n",
       "    <tr>\n",
       "      <th>5090</th>\n",
       "      <td>MSI</td>\n",
       "      <td>60</td>\n",
       "    </tr>\n",
       "    <tr>\n",
       "      <th>...</th>\n",
       "      <td>...</td>\n",
       "      <td>...</td>\n",
       "    </tr>\n",
       "    <tr>\n",
       "      <th>3791</th>\n",
       "      <td>HUDA</td>\n",
       "      <td>1</td>\n",
       "    </tr>\n",
       "    <tr>\n",
       "      <th>7919</th>\n",
       "      <td>VHLD</td>\n",
       "      <td>1</td>\n",
       "    </tr>\n",
       "    <tr>\n",
       "      <th>7099</th>\n",
       "      <td>SOYB</td>\n",
       "      <td>1</td>\n",
       "    </tr>\n",
       "    <tr>\n",
       "      <th>6701</th>\n",
       "      <td>SATL</td>\n",
       "      <td>1</td>\n",
       "    </tr>\n",
       "    <tr>\n",
       "      <th>7654</th>\n",
       "      <td>TUYA</td>\n",
       "      <td>1</td>\n",
       "    </tr>\n",
       "  </tbody>\n",
       "</table>\n",
       "<p>8459 rows × 2 columns</p>\n",
       "</div>"
      ],
      "text/plain": [
       "      symbol  unique_url\n",
       "7859  VAL-WT          65\n",
       "7858     VAL          65\n",
       "1318    BTCS          64\n",
       "3210      GE          62\n",
       "5090     MSI          60\n",
       "...      ...         ...\n",
       "3791    HUDA           1\n",
       "7919    VHLD           1\n",
       "7099    SOYB           1\n",
       "6701    SATL           1\n",
       "7654    TUYA           1\n",
       "\n",
       "[8459 rows x 2 columns]"
      ]
     },
     "execution_count": 31,
     "metadata": {},
     "output_type": "execute_result"
    }
   ],
   "source": [
    "grouped_reports = (df_report_links\n",
    "    .groupby('ticker',as_index=False).agg(\n",
    "        unique_url = ('url_report',pd.Series.nunique))\n",
    "    .sort_values(by=\"unique_url\",ascending=False)    \n",
    "    .rename(columns={\"ticker\":'symbol'})    )\n",
    "grouped_reports"
   ]
  },
  {
   "cell_type": "code",
   "execution_count": 138,
   "metadata": {},
   "outputs": [
    {
     "data": {
      "text/html": [
       "<div>\n",
       "<style scoped>\n",
       "    .dataframe tbody tr th:only-of-type {\n",
       "        vertical-align: middle;\n",
       "    }\n",
       "\n",
       "    .dataframe tbody tr th {\n",
       "        vertical-align: top;\n",
       "    }\n",
       "\n",
       "    .dataframe thead th {\n",
       "        text-align: right;\n",
       "    }\n",
       "</style>\n",
       "<table border=\"1\" class=\"dataframe\">\n",
       "  <thead>\n",
       "    <tr style=\"text-align: right;\">\n",
       "      <th></th>\n",
       "      <th>id</th>\n",
       "      <th>symbol</th>\n",
       "      <th>longName</th>\n",
       "      <th>sector</th>\n",
       "      <th>industry</th>\n",
       "      <th>country</th>\n",
       "      <th>longBusinessSummary</th>\n",
       "      <th>fullTimeEmployees</th>\n",
       "      <th>website</th>\n",
       "      <th>logo_url</th>\n",
       "      <th>exchange</th>\n",
       "      <th>unique_url</th>\n",
       "    </tr>\n",
       "  </thead>\n",
       "  <tbody>\n",
       "    <tr>\n",
       "      <th>0</th>\n",
       "      <td>1</td>\n",
       "      <td>A</td>\n",
       "      <td>Agilent Technologies, Inc.</td>\n",
       "      <td>Healthcare</td>\n",
       "      <td>Diagnostics &amp; Research</td>\n",
       "      <td>United States</td>\n",
       "      <td>Agilent Technologies, Inc. provides applicatio...</td>\n",
       "      <td>17200.0</td>\n",
       "      <td>https://www.agilent.com</td>\n",
       "      <td>https://logo.clearbit.com/agilent.com</td>\n",
       "      <td>NYQ</td>\n",
       "      <td>57</td>\n",
       "    </tr>\n",
       "    <tr>\n",
       "      <th>1</th>\n",
       "      <td>2</td>\n",
       "      <td>AA</td>\n",
       "      <td>Alcoa Corporation</td>\n",
       "      <td>Basic Materials</td>\n",
       "      <td>Aluminum</td>\n",
       "      <td>United States</td>\n",
       "      <td>Alcoa Corporation, together with its subsidiar...</td>\n",
       "      <td>12200.0</td>\n",
       "      <td>https://www.alcoa.com</td>\n",
       "      <td>https://logo.clearbit.com/alcoa.com</td>\n",
       "      <td>NYQ</td>\n",
       "      <td>26</td>\n",
       "    </tr>\n",
       "    <tr>\n",
       "      <th>2</th>\n",
       "      <td>3</td>\n",
       "      <td>AAC</td>\n",
       "      <td>Ares Acquisition Corporation</td>\n",
       "      <td>Financial Services</td>\n",
       "      <td>Shell Companies</td>\n",
       "      <td>United States</td>\n",
       "      <td>Ares Acquisition Corporation does not have sig...</td>\n",
       "      <td>NaN</td>\n",
       "      <td>https://www.aresacquisitioncorporation.com</td>\n",
       "      <td>https://logo.clearbit.com/aresacquisitioncorpo...</td>\n",
       "      <td>NYQ</td>\n",
       "      <td>10</td>\n",
       "    </tr>\n",
       "    <tr>\n",
       "      <th>3</th>\n",
       "      <td>4</td>\n",
       "      <td>AACG</td>\n",
       "      <td>ATA Creativity Global</td>\n",
       "      <td>Consumer Defensive</td>\n",
       "      <td>Education &amp; Training Services</td>\n",
       "      <td>China</td>\n",
       "      <td>ATA Creativity Global, together with its subsi...</td>\n",
       "      <td>NaN</td>\n",
       "      <td>https://www.atai.net.cn</td>\n",
       "      <td>https://logo.clearbit.com/atai.net.cn</td>\n",
       "      <td>NGM</td>\n",
       "      <td>10</td>\n",
       "    </tr>\n",
       "    <tr>\n",
       "      <th>4</th>\n",
       "      <td>5</td>\n",
       "      <td>AACI</td>\n",
       "      <td>Armada Acquisition Corp. I</td>\n",
       "      <td>Financial Services</td>\n",
       "      <td>Shell Companies</td>\n",
       "      <td>United States</td>\n",
       "      <td>Armada Acquisition Corp. I focuses on effectin...</td>\n",
       "      <td>NaN</td>\n",
       "      <td>None</td>\n",
       "      <td></td>\n",
       "      <td>NGM</td>\n",
       "      <td>8</td>\n",
       "    </tr>\n",
       "  </tbody>\n",
       "</table>\n",
       "</div>"
      ],
      "text/plain": [
       "   id symbol                      longName              sector   \n",
       "0   1      A    Agilent Technologies, Inc.          Healthcare  \\\n",
       "1   2     AA             Alcoa Corporation     Basic Materials   \n",
       "2   3    AAC  Ares Acquisition Corporation  Financial Services   \n",
       "3   4   AACG         ATA Creativity Global  Consumer Defensive   \n",
       "4   5   AACI    Armada Acquisition Corp. I  Financial Services   \n",
       "\n",
       "                        industry        country   \n",
       "0         Diagnostics & Research  United States  \\\n",
       "1                       Aluminum  United States   \n",
       "2                Shell Companies  United States   \n",
       "3  Education & Training Services          China   \n",
       "4                Shell Companies  United States   \n",
       "\n",
       "                                 longBusinessSummary  fullTimeEmployees   \n",
       "0  Agilent Technologies, Inc. provides applicatio...            17200.0  \\\n",
       "1  Alcoa Corporation, together with its subsidiar...            12200.0   \n",
       "2  Ares Acquisition Corporation does not have sig...                NaN   \n",
       "3  ATA Creativity Global, together with its subsi...                NaN   \n",
       "4  Armada Acquisition Corp. I focuses on effectin...                NaN   \n",
       "\n",
       "                                      website   \n",
       "0                     https://www.agilent.com  \\\n",
       "1                       https://www.alcoa.com   \n",
       "2  https://www.aresacquisitioncorporation.com   \n",
       "3                     https://www.atai.net.cn   \n",
       "4                                        None   \n",
       "\n",
       "                                            logo_url exchange  unique_url  \n",
       "0              https://logo.clearbit.com/agilent.com      NYQ          57  \n",
       "1                https://logo.clearbit.com/alcoa.com      NYQ          26  \n",
       "2  https://logo.clearbit.com/aresacquisitioncorpo...      NYQ          10  \n",
       "3              https://logo.clearbit.com/atai.net.cn      NGM          10  \n",
       "4                                                         NGM           8  "
      ]
     },
     "execution_count": 138,
     "metadata": {},
     "output_type": "execute_result"
    }
   ],
   "source": [
    "grouped_desc_grouped_reports = (\n",
    "    df_descriptive.merge(grouped_reports,on='symbol')\n",
    ")\n",
    "grouped_desc_grouped_reports.head()"
   ]
  },
  {
   "cell_type": "code",
   "execution_count": 35,
   "metadata": {},
   "outputs": [],
   "source": [
    "grouped_desc_grouped_reports['fullTimeEmployees'] = grouped_desc_grouped_reports['fullTimeEmployees'].apply(pd.to_numeric)"
   ]
  },
  {
   "cell_type": "code",
   "execution_count": 39,
   "metadata": {},
   "outputs": [],
   "source": [
    "df_companies = grouped_desc_grouped_reports[['symbol',\"sector\",'industry','country',\"longName\",\"longBusinessSummary\",'fullTimeEmployees','unique_url']]"
   ]
  },
  {
   "cell_type": "code",
   "execution_count": 112,
   "metadata": {},
   "outputs": [
    {
     "data": {
      "text/plain": [
       "sector\n",
       "Healthcare                1042\n",
       "Financial Services         632\n",
       "Technology                 623\n",
       "Industrials                511\n",
       "Consumer Cyclical          448\n",
       "Real Estate                216\n",
       "Communication Services     186\n",
       "Consumer Defensive         182\n",
       "Energy                     156\n",
       "Basic Materials            140\n",
       "Utilities                   80\n",
       "                             6\n",
       "Name: count, dtype: int64"
      ]
     },
     "execution_count": 112,
     "metadata": {},
     "output_type": "execute_result"
    }
   ],
   "source": [
    "df_companies.sector.value_counts()"
   ]
  },
  {
   "cell_type": "code",
   "execution_count": 128,
   "metadata": {},
   "outputs": [],
   "source": [
    "worked_df = (\n",
    "    df_companies\n",
    "    .query(\"unique_url >40\")\n",
    "    .groupby([\"industry\",'sector']).head(5)\n",
    ")\n",
    "selected_first_5 = (\n",
    "    worked_df.query('sector == \"Healthcare\"')\n",
    "    .sort_values(by=['industry'],ascending=False))\n"
   ]
  },
  {
   "cell_type": "code",
   "execution_count": 189,
   "metadata": {},
   "outputs": [
    {
     "data": {
      "text/plain": [
       "array(['A', 'ABC', 'ABEO', 'ABIO', 'ABT', 'ABVC', 'ACAD', 'ACER', 'ACHC',\n",
       "       'ACOR', 'ACRX', 'ADMP', 'ADUS', 'AEMD', 'AHPI', 'ALGN', 'ALIM',\n",
       "       'ALR', 'AMED', 'AMEH', 'ANGO', 'ANIK', 'ANIP', 'APDN', 'ATR',\n",
       "       'ATRC', 'ATRI', 'AWH', 'AXDX', 'AZTA', 'BIIB', 'BIMI', 'BMY',\n",
       "       'CAH', 'CEMI', 'CNC', 'CPSI', 'CVS', 'GILD', 'HSIC', 'HSTM',\n",
       "       'HZNP', 'JNJ', 'LFMD', 'LFMDP', 'MCK', 'MDRX', 'MDVL', 'NRC',\n",
       "       'NXGN', 'OMI', 'PETS', 'UNH'], dtype=object)"
      ]
     },
     "execution_count": 189,
     "metadata": {},
     "output_type": "execute_result"
    }
   ],
   "source": [
    "pd.set_option('display.max_colwidth', 50)\n",
    " \n",
    "test_group = (\n",
    "    \n",
    "    pd.merge(\n",
    "        df_report_links\n",
    "            [[\"ticker\",'date_publication','quartal','url_report']],\n",
    "        selected_first_5.rename(columns={\"symbol\":'ticker'})\n",
    "            [['sector','industry','ticker']],\n",
    "    on='ticker'\n",
    "    )\n",
    "    .drop_duplicates().sort_values(by=['ticker',\"date_publication\"])\n",
    "    # .style.set_properties(**{'text-align': 'center', 'text_wrap': True}) \n",
    ")\n",
    "test_group.ticker.unique()"
   ]
  },
  {
   "cell_type": "code",
   "execution_count": null,
   "metadata": {},
   "outputs": [],
   "source": []
  }
 ],
 "metadata": {
  "kernelspec": {
   "display_name": ".venv",
   "language": "python",
   "name": "python3"
  },
  "language_info": {
   "codemirror_mode": {
    "name": "ipython",
    "version": 3
   },
   "file_extension": ".py",
   "mimetype": "text/x-python",
   "name": "python",
   "nbconvert_exporter": "python",
   "pygments_lexer": "ipython3",
   "version": "3.10.5"
  },
  "orig_nbformat": 4
 },
 "nbformat": 4,
 "nbformat_minor": 2
}
